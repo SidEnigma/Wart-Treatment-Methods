{
 "cells": [
  {
   "cell_type": "code",
   "execution_count": 1,
   "metadata": {
    "collapsed": true
   },
   "outputs": [],
   "source": [
    "import numpy as np\n",
    "import matplotlib.pyplot as plt\n",
    "import pandas as pd"
   ]
  },
  {
   "cell_type": "code",
   "execution_count": 2,
   "metadata": {
    "collapsed": true
   },
   "outputs": [],
   "source": [
    "dataset = pd.read_csv('Cryotherapy.csv')\n",
    "X = dataset.iloc[:, 0:6].values\n",
    "y = dataset.iloc[:, 6].values"
   ]
  },
  {
   "cell_type": "code",
   "execution_count": 10,
   "metadata": {},
   "outputs": [],
   "source": [
    "from sklearn.cross_validation import train_test_split\n",
    "X_train, X_test, y_train, y_test = train_test_split(X, y, test_size = 0.25, random_state = 0)\n"
   ]
  },
  {
   "cell_type": "code",
   "execution_count": 11,
   "metadata": {},
   "outputs": [
    {
     "data": {
      "text/plain": [
       "array([[  1.00000000e+00,   1.50000000e+01,   4.00000000e+00,\n",
       "          7.00000000e+00,   1.00000000e+00,   6.00000000e+00],\n",
       "       [  2.00000000e+00,   2.20000000e+01,   4.50000000e+00,\n",
       "          2.00000000e+00,   1.00000000e+00,   7.00000000e+01],\n",
       "       [  2.00000000e+00,   3.00000000e+01,   5.00000000e-01,\n",
       "          8.00000000e+00,   3.00000000e+00,   1.15000000e+02],\n",
       "       [  2.00000000e+00,   1.50000000e+01,   2.00000000e+00,\n",
       "          1.00000000e+01,   3.00000000e+00,   7.00000000e+01],\n",
       "       [  1.00000000e+00,   1.80000000e+01,   4.00000000e+00,\n",
       "          1.00000000e+00,   1.00000000e+00,   8.00000000e+01],\n",
       "       [  2.00000000e+00,   2.80000000e+01,   5.00000000e+00,\n",
       "          9.00000000e+00,   1.00000000e+00,   1.00000000e+02],\n",
       "       [  1.00000000e+00,   3.20000000e+01,   1.17500000e+01,\n",
       "          7.00000000e+00,   3.00000000e+00,   7.50000000e+02],\n",
       "       [  2.00000000e+00,   5.00000000e+01,   9.50000000e+00,\n",
       "          4.00000000e+00,   3.00000000e+00,   1.32000000e+02],\n",
       "       [  1.00000000e+00,   1.70000000e+01,   5.75000000e+00,\n",
       "          1.00000000e+01,   1.00000000e+00,   6.30000000e+01],\n",
       "       [  2.00000000e+00,   3.50000000e+01,   1.20000000e+01,\n",
       "          5.00000000e+00,   3.00000000e+00,   1.00000000e+02],\n",
       "       [  2.00000000e+00,   1.50000000e+01,   4.25000000e+00,\n",
       "          1.00000000e+00,   1.00000000e+00,   6.00000000e+00],\n",
       "       [  2.00000000e+00,   2.20000000e+01,   5.00000000e+00,\n",
       "          9.00000000e+00,   1.00000000e+00,   7.00000000e+01],\n",
       "       [  1.00000000e+00,   1.60000000e+01,   1.02500000e+01,\n",
       "          3.00000000e+00,   2.00000000e+00,   6.00000000e+01],\n",
       "       [  1.00000000e+00,   1.70000000e+01,   9.25000000e+00,\n",
       "          1.20000000e+01,   1.00000000e+00,   1.00000000e+01],\n",
       "       [  2.00000000e+00,   1.90000000e+01,   8.00000000e+00,\n",
       "          9.00000000e+00,   1.00000000e+00,   1.60000000e+02],\n",
       "       [  1.00000000e+00,   3.40000000e+01,   1.07500000e+01,\n",
       "          1.00000000e+00,   3.00000000e+00,   9.50000000e+01],\n",
       "       [  1.00000000e+00,   6.70000000e+01,   9.25000000e+00,\n",
       "          1.00000000e+00,   1.00000000e+00,   4.20000000e+01],\n",
       "       [  2.00000000e+00,   1.70000000e+01,   5.25000000e+00,\n",
       "          3.00000000e+00,   1.00000000e+00,   6.30000000e+01],\n",
       "       [  2.00000000e+00,   2.70000000e+01,   8.75000000e+00,\n",
       "          2.00000000e+00,   1.00000000e+00,   6.00000000e+00],\n",
       "       [  2.00000000e+00,   2.10000000e+01,   1.05000000e+01,\n",
       "          5.00000000e+00,   1.00000000e+00,   3.50000000e+01],\n",
       "       [  1.00000000e+00,   2.00000000e+01,   5.00000000e+00,\n",
       "          3.00000000e+00,   1.00000000e+00,   6.00000000e+00],\n",
       "       [  1.00000000e+00,   4.10000000e+01,   8.00000000e+00,\n",
       "          2.00000000e+00,   2.00000000e+00,   2.00000000e+01],\n",
       "       [  1.00000000e+00,   1.60000000e+01,   1.10000000e+01,\n",
       "          3.00000000e+00,   2.00000000e+00,   6.00000000e+01],\n",
       "       [  1.00000000e+00,   2.00000000e+01,   4.00000000e+00,\n",
       "          3.00000000e+00,   1.00000000e+00,   6.00000000e+00],\n",
       "       [  1.00000000e+00,   3.50000000e+01,   1.20000000e+01,\n",
       "          5.00000000e+00,   1.00000000e+00,   1.00000000e+02],\n",
       "       [  2.00000000e+00,   6.70000000e+01,   1.20000000e+01,\n",
       "          1.20000000e+01,   3.00000000e+00,   4.20000000e+01],\n",
       "       [  2.00000000e+00,   2.40000000e+01,   9.50000000e+00,\n",
       "          3.00000000e+00,   3.00000000e+00,   2.00000000e+01],\n",
       "       [  2.00000000e+00,   1.50000000e+01,   6.00000000e+00,\n",
       "          2.00000000e+00,   1.00000000e+00,   3.00000000e+01],\n",
       "       [  2.00000000e+00,   4.10000000e+01,   1.05000000e+01,\n",
       "          2.00000000e+00,   2.00000000e+00,   2.00000000e+01],\n",
       "       [  2.00000000e+00,   4.00000000e+01,   9.75000000e+00,\n",
       "          1.00000000e+00,   2.00000000e+00,   8.00000000e+01],\n",
       "       [  2.00000000e+00,   2.80000000e+01,   4.00000000e+00,\n",
       "          1.10000000e+01,   1.00000000e+00,   1.00000000e+02],\n",
       "       [  2.00000000e+00,   2.10000000e+01,   1.07500000e+01,\n",
       "          5.00000000e+00,   1.00000000e+00,   3.50000000e+01],\n",
       "       [  1.00000000e+00,   2.90000000e+01,   7.25000000e+00,\n",
       "          6.00000000e+00,   1.00000000e+00,   9.60000000e+01],\n",
       "       [  1.00000000e+00,   3.50000000e+01,   7.25000000e+00,\n",
       "          2.00000000e+00,   1.00000000e+00,   1.00000000e+02],\n",
       "       [  2.00000000e+00,   3.50000000e+01,   8.50000000e+00,\n",
       "          6.00000000e+00,   3.00000000e+00,   1.00000000e+02],\n",
       "       [  1.00000000e+00,   1.50000000e+01,   1.05000000e+01,\n",
       "          1.10000000e+01,   1.00000000e+00,   3.00000000e+01],\n",
       "       [  1.00000000e+00,   2.90000000e+01,   7.00000000e+00,\n",
       "          5.00000000e+00,   1.00000000e+00,   9.60000000e+01],\n",
       "       [  1.00000000e+00,   5.00000000e+01,   8.75000000e+00,\n",
       "          1.10000000e+01,   3.00000000e+00,   1.32000000e+02],\n",
       "       [  1.00000000e+00,   2.30000000e+01,   1.02500000e+01,\n",
       "          7.00000000e+00,   3.00000000e+00,   7.20000000e+01],\n",
       "       [  2.00000000e+00,   1.70000000e+01,   1.10000000e+01,\n",
       "          2.00000000e+00,   1.00000000e+00,   1.00000000e+01],\n",
       "       [  2.00000000e+00,   3.40000000e+01,   1.20000000e+01,\n",
       "          3.00000000e+00,   3.00000000e+00,   9.50000000e+01],\n",
       "       [  2.00000000e+00,   1.80000000e+01,   5.75000000e+00,\n",
       "          1.00000000e+00,   1.00000000e+00,   8.00000000e+01],\n",
       "       [  2.00000000e+00,   1.90000000e+01,   8.75000000e+00,\n",
       "          6.00000000e+00,   1.00000000e+00,   1.60000000e+02],\n",
       "       [  2.00000000e+00,   1.80000000e+01,   4.50000000e+00,\n",
       "          8.00000000e+00,   1.00000000e+00,   8.00000000e+01],\n",
       "       [  2.00000000e+00,   3.50000000e+01,   8.25000000e+00,\n",
       "          8.00000000e+00,   3.00000000e+00,   1.00000000e+02],\n",
       "       [  1.00000000e+00,   2.40000000e+01,   1.07500000e+01,\n",
       "          1.00000000e+01,   1.00000000e+00,   2.00000000e+01],\n",
       "       [  1.00000000e+00,   3.40000000e+01,   1.12500000e+01,\n",
       "          1.00000000e+00,   3.00000000e+00,   1.50000000e+02],\n",
       "       [  1.00000000e+00,   2.20000000e+01,   5.50000000e+00,\n",
       "          2.00000000e+00,   1.00000000e+00,   7.00000000e+01],\n",
       "       [  1.00000000e+00,   3.00000000e+01,   2.50000000e-01,\n",
       "          1.00000000e+01,   1.00000000e+00,   1.15000000e+02],\n",
       "       [  1.00000000e+00,   1.50000000e+01,   2.00000000e+00,\n",
       "          1.10000000e+01,   1.00000000e+00,   4.00000000e+00],\n",
       "       [  2.00000000e+00,   3.40000000e+01,   1.20000000e+01,\n",
       "          3.00000000e+00,   3.00000000e+00,   9.50000000e+01],\n",
       "       [  1.00000000e+00,   6.30000000e+01,   2.75000000e+00,\n",
       "          3.00000000e+00,   3.00000000e+00,   2.00000000e+01],\n",
       "       [  2.00000000e+00,   2.30000000e+01,   9.50000000e+00,\n",
       "          5.00000000e+00,   3.00000000e+00,   7.20000000e+01],\n",
       "       [  1.00000000e+00,   3.40000000e+01,   1.20000000e+01,\n",
       "          1.00000000e+00,   3.00000000e+00,   1.50000000e+02],\n",
       "       [  2.00000000e+00,   4.10000000e+01,   7.75000000e+00,\n",
       "          5.00000000e+00,   2.00000000e+00,   2.00000000e+01],\n",
       "       [  1.00000000e+00,   2.40000000e+01,   9.50000000e+00,\n",
       "          8.00000000e+00,   1.00000000e+00,   2.00000000e+01],\n",
       "       [  2.00000000e+00,   1.50000000e+01,   2.00000000e+00,\n",
       "          3.00000000e+00,   1.00000000e+00,   4.00000000e+00],\n",
       "       [  2.00000000e+00,   2.10000000e+01,   1.07500000e+01,\n",
       "          7.00000000e+00,   1.00000000e+00,   3.50000000e+01],\n",
       "       [  2.00000000e+00,   3.60000000e+01,   1.10000000e+01,\n",
       "          6.00000000e+00,   1.00000000e+00,   8.00000000e+00],\n",
       "       [  2.00000000e+00,   1.60000000e+01,   8.50000000e+00,\n",
       "          1.00000000e+00,   2.00000000e+00,   6.00000000e+01],\n",
       "       [  1.00000000e+00,   4.00000000e+01,   1.15000000e+01,\n",
       "          9.00000000e+00,   2.00000000e+00,   8.00000000e+01],\n",
       "       [  2.00000000e+00,   3.40000000e+01,   1.12500000e+01,\n",
       "          3.00000000e+00,   3.00000000e+00,   1.50000000e+02],\n",
       "       [  2.00000000e+00,   2.00000000e+01,   3.50000000e+00,\n",
       "          6.00000000e+00,   1.00000000e+00,   7.50000000e+01],\n",
       "       [  1.00000000e+00,   6.70000000e+01,   3.75000000e+00,\n",
       "          1.10000000e+01,   3.00000000e+00,   2.00000000e+01],\n",
       "       [  1.00000000e+00,   6.70000000e+01,   1.00000000e+01,\n",
       "          7.00000000e+00,   1.00000000e+00,   4.20000000e+01],\n",
       "       [  1.00000000e+00,   2.70000000e+01,   1.00000000e+01,\n",
       "          5.00000000e+00,   1.00000000e+00,   6.00000000e+00],\n",
       "       [  1.00000000e+00,   1.70000000e+01,   1.15000000e+01,\n",
       "          2.00000000e+00,   1.00000000e+00,   1.00000000e+01]])"
      ]
     },
     "execution_count": 11,
     "metadata": {},
     "output_type": "execute_result"
    }
   ],
   "source": [
    "X_train"
   ]
  },
  {
   "cell_type": "code",
   "execution_count": 15,
   "metadata": {
    "collapsed": true
   },
   "outputs": [],
   "source": [
    "from sklearn.preprocessing import StandardScaler\n",
    "sc = StandardScaler()\n",
    "X_train = sc.fit_transform(X_train)\n",
    "X_test = sc.transform(X_test)"
   ]
  },
  {
   "cell_type": "code",
   "execution_count": 16,
   "metadata": {},
   "outputs": [
    {
     "data": {
      "text/plain": [
       "KNeighborsClassifier(algorithm='auto', leaf_size=30, metric='minkowski',\n",
       "           metric_params=None, n_jobs=1, n_neighbors=5, p=2,\n",
       "           weights='uniform')"
      ]
     },
     "execution_count": 16,
     "metadata": {},
     "output_type": "execute_result"
    }
   ],
   "source": [
    "from sklearn.neighbors import KNeighborsClassifier\n",
    "classifier = KNeighborsClassifier(n_neighbors = 5, metric = 'minkowski', p = 2)\n",
    "classifier.fit(X_train, y_train)\n"
   ]
  },
  {
   "cell_type": "code",
   "execution_count": 18,
   "metadata": {
    "collapsed": true
   },
   "outputs": [],
   "source": [
    "y_pred = classifier.predict(X_test)"
   ]
  },
  {
   "cell_type": "code",
   "execution_count": 21,
   "metadata": {
    "collapsed": true
   },
   "outputs": [],
   "source": [
    "y_pred = classifier.predict(X_test)\n",
    "from sklearn.metrics import confusion_matrix\n",
    "cm = confusion_matrix(y_test, y_pred)\n"
   ]
  },
  {
   "cell_type": "code",
   "execution_count": 19,
   "metadata": {},
   "outputs": [
    {
     "ename": "ValueError",
     "evalue": "query data dimension must match training data dimension",
     "output_type": "error",
     "traceback": [
      "\u001b[1;31m---------------------------------------------------------------------------\u001b[0m",
      "\u001b[1;31mValueError\u001b[0m                                Traceback (most recent call last)",
      "\u001b[1;32m<ipython-input-19-5b8f0c1bb1dc>\u001b[0m in \u001b[0;36m<module>\u001b[1;34m()\u001b[0m\n\u001b[0;32m      4\u001b[0m X1, X2 = np.meshgrid(np.arange(start = X_set[:, 0].min() - 1, stop = X_set[:, 0].max() + 1, step = 0.01),\n\u001b[0;32m      5\u001b[0m                      np.arange(start = X_set[:, 1].min() - 1, stop = X_set[:, 1].max() + 1, step = 0.01))\n\u001b[1;32m----> 6\u001b[1;33m plt.contourf(X1, X2, classifier.predict(np.array([X1.ravel(), X2.ravel()]).T).reshape(X1.shape),\n\u001b[0m\u001b[0;32m      7\u001b[0m              alpha = 0.75, cmap = ListedColormap(('red', 'green')))\n\u001b[0;32m      8\u001b[0m \u001b[0mplt\u001b[0m\u001b[1;33m.\u001b[0m\u001b[0mxlim\u001b[0m\u001b[1;33m(\u001b[0m\u001b[0mX1\u001b[0m\u001b[1;33m.\u001b[0m\u001b[0mmin\u001b[0m\u001b[1;33m(\u001b[0m\u001b[1;33m)\u001b[0m\u001b[1;33m,\u001b[0m \u001b[0mX1\u001b[0m\u001b[1;33m.\u001b[0m\u001b[0mmax\u001b[0m\u001b[1;33m(\u001b[0m\u001b[1;33m)\u001b[0m\u001b[1;33m)\u001b[0m\u001b[1;33m\u001b[0m\u001b[0m\n",
      "\u001b[1;32mC:\\ProgramData\\Anaconda3\\lib\\site-packages\\sklearn\\neighbors\\classification.py\u001b[0m in \u001b[0;36mpredict\u001b[1;34m(self, X)\u001b[0m\n\u001b[0;32m    143\u001b[0m         \u001b[0mX\u001b[0m \u001b[1;33m=\u001b[0m \u001b[0mcheck_array\u001b[0m\u001b[1;33m(\u001b[0m\u001b[0mX\u001b[0m\u001b[1;33m,\u001b[0m \u001b[0maccept_sparse\u001b[0m\u001b[1;33m=\u001b[0m\u001b[1;34m'csr'\u001b[0m\u001b[1;33m)\u001b[0m\u001b[1;33m\u001b[0m\u001b[0m\n\u001b[0;32m    144\u001b[0m \u001b[1;33m\u001b[0m\u001b[0m\n\u001b[1;32m--> 145\u001b[1;33m         \u001b[0mneigh_dist\u001b[0m\u001b[1;33m,\u001b[0m \u001b[0mneigh_ind\u001b[0m \u001b[1;33m=\u001b[0m \u001b[0mself\u001b[0m\u001b[1;33m.\u001b[0m\u001b[0mkneighbors\u001b[0m\u001b[1;33m(\u001b[0m\u001b[0mX\u001b[0m\u001b[1;33m)\u001b[0m\u001b[1;33m\u001b[0m\u001b[0m\n\u001b[0m\u001b[0;32m    146\u001b[0m \u001b[1;33m\u001b[0m\u001b[0m\n\u001b[0;32m    147\u001b[0m         \u001b[0mclasses_\u001b[0m \u001b[1;33m=\u001b[0m \u001b[0mself\u001b[0m\u001b[1;33m.\u001b[0m\u001b[0mclasses_\u001b[0m\u001b[1;33m\u001b[0m\u001b[0m\n",
      "\u001b[1;32mC:\\ProgramData\\Anaconda3\\lib\\site-packages\\sklearn\\neighbors\\base.py\u001b[0m in \u001b[0;36mkneighbors\u001b[1;34m(self, X, n_neighbors, return_distance)\u001b[0m\n\u001b[0;32m    383\u001b[0m                 delayed(self._tree.query, check_pickle=False)(\n\u001b[0;32m    384\u001b[0m                     X[s], n_neighbors, return_distance)\n\u001b[1;32m--> 385\u001b[1;33m                 \u001b[1;32mfor\u001b[0m \u001b[0ms\u001b[0m \u001b[1;32min\u001b[0m \u001b[0mgen_even_slices\u001b[0m\u001b[1;33m(\u001b[0m\u001b[0mX\u001b[0m\u001b[1;33m.\u001b[0m\u001b[0mshape\u001b[0m\u001b[1;33m[\u001b[0m\u001b[1;36m0\u001b[0m\u001b[1;33m]\u001b[0m\u001b[1;33m,\u001b[0m \u001b[0mn_jobs\u001b[0m\u001b[1;33m)\u001b[0m\u001b[1;33m\u001b[0m\u001b[0m\n\u001b[0m\u001b[0;32m    386\u001b[0m             )\n\u001b[0;32m    387\u001b[0m             \u001b[1;32mif\u001b[0m \u001b[0mreturn_distance\u001b[0m\u001b[1;33m:\u001b[0m\u001b[1;33m\u001b[0m\u001b[0m\n",
      "\u001b[1;32mC:\\ProgramData\\Anaconda3\\lib\\site-packages\\sklearn\\externals\\joblib\\parallel.py\u001b[0m in \u001b[0;36m__call__\u001b[1;34m(self, iterable)\u001b[0m\n\u001b[0;32m    777\u001b[0m             \u001b[1;31m# was dispatched. In particular this covers the edge\u001b[0m\u001b[1;33m\u001b[0m\u001b[1;33m\u001b[0m\u001b[0m\n\u001b[0;32m    778\u001b[0m             \u001b[1;31m# case of Parallel used with an exhausted iterator.\u001b[0m\u001b[1;33m\u001b[0m\u001b[1;33m\u001b[0m\u001b[0m\n\u001b[1;32m--> 779\u001b[1;33m             \u001b[1;32mwhile\u001b[0m \u001b[0mself\u001b[0m\u001b[1;33m.\u001b[0m\u001b[0mdispatch_one_batch\u001b[0m\u001b[1;33m(\u001b[0m\u001b[0miterator\u001b[0m\u001b[1;33m)\u001b[0m\u001b[1;33m:\u001b[0m\u001b[1;33m\u001b[0m\u001b[0m\n\u001b[0m\u001b[0;32m    780\u001b[0m                 \u001b[0mself\u001b[0m\u001b[1;33m.\u001b[0m\u001b[0m_iterating\u001b[0m \u001b[1;33m=\u001b[0m \u001b[1;32mTrue\u001b[0m\u001b[1;33m\u001b[0m\u001b[0m\n\u001b[0;32m    781\u001b[0m             \u001b[1;32melse\u001b[0m\u001b[1;33m:\u001b[0m\u001b[1;33m\u001b[0m\u001b[0m\n",
      "\u001b[1;32mC:\\ProgramData\\Anaconda3\\lib\\site-packages\\sklearn\\externals\\joblib\\parallel.py\u001b[0m in \u001b[0;36mdispatch_one_batch\u001b[1;34m(self, iterator)\u001b[0m\n\u001b[0;32m    623\u001b[0m                 \u001b[1;32mreturn\u001b[0m \u001b[1;32mFalse\u001b[0m\u001b[1;33m\u001b[0m\u001b[0m\n\u001b[0;32m    624\u001b[0m             \u001b[1;32melse\u001b[0m\u001b[1;33m:\u001b[0m\u001b[1;33m\u001b[0m\u001b[0m\n\u001b[1;32m--> 625\u001b[1;33m                 \u001b[0mself\u001b[0m\u001b[1;33m.\u001b[0m\u001b[0m_dispatch\u001b[0m\u001b[1;33m(\u001b[0m\u001b[0mtasks\u001b[0m\u001b[1;33m)\u001b[0m\u001b[1;33m\u001b[0m\u001b[0m\n\u001b[0m\u001b[0;32m    626\u001b[0m                 \u001b[1;32mreturn\u001b[0m \u001b[1;32mTrue\u001b[0m\u001b[1;33m\u001b[0m\u001b[0m\n\u001b[0;32m    627\u001b[0m \u001b[1;33m\u001b[0m\u001b[0m\n",
      "\u001b[1;32mC:\\ProgramData\\Anaconda3\\lib\\site-packages\\sklearn\\externals\\joblib\\parallel.py\u001b[0m in \u001b[0;36m_dispatch\u001b[1;34m(self, batch)\u001b[0m\n\u001b[0;32m    586\u001b[0m         \u001b[0mdispatch_timestamp\u001b[0m \u001b[1;33m=\u001b[0m \u001b[0mtime\u001b[0m\u001b[1;33m.\u001b[0m\u001b[0mtime\u001b[0m\u001b[1;33m(\u001b[0m\u001b[1;33m)\u001b[0m\u001b[1;33m\u001b[0m\u001b[0m\n\u001b[0;32m    587\u001b[0m         \u001b[0mcb\u001b[0m \u001b[1;33m=\u001b[0m \u001b[0mBatchCompletionCallBack\u001b[0m\u001b[1;33m(\u001b[0m\u001b[0mdispatch_timestamp\u001b[0m\u001b[1;33m,\u001b[0m \u001b[0mlen\u001b[0m\u001b[1;33m(\u001b[0m\u001b[0mbatch\u001b[0m\u001b[1;33m)\u001b[0m\u001b[1;33m,\u001b[0m \u001b[0mself\u001b[0m\u001b[1;33m)\u001b[0m\u001b[1;33m\u001b[0m\u001b[0m\n\u001b[1;32m--> 588\u001b[1;33m         \u001b[0mjob\u001b[0m \u001b[1;33m=\u001b[0m \u001b[0mself\u001b[0m\u001b[1;33m.\u001b[0m\u001b[0m_backend\u001b[0m\u001b[1;33m.\u001b[0m\u001b[0mapply_async\u001b[0m\u001b[1;33m(\u001b[0m\u001b[0mbatch\u001b[0m\u001b[1;33m,\u001b[0m \u001b[0mcallback\u001b[0m\u001b[1;33m=\u001b[0m\u001b[0mcb\u001b[0m\u001b[1;33m)\u001b[0m\u001b[1;33m\u001b[0m\u001b[0m\n\u001b[0m\u001b[0;32m    589\u001b[0m         \u001b[0mself\u001b[0m\u001b[1;33m.\u001b[0m\u001b[0m_jobs\u001b[0m\u001b[1;33m.\u001b[0m\u001b[0mappend\u001b[0m\u001b[1;33m(\u001b[0m\u001b[0mjob\u001b[0m\u001b[1;33m)\u001b[0m\u001b[1;33m\u001b[0m\u001b[0m\n\u001b[0;32m    590\u001b[0m \u001b[1;33m\u001b[0m\u001b[0m\n",
      "\u001b[1;32mC:\\ProgramData\\Anaconda3\\lib\\site-packages\\sklearn\\externals\\joblib\\_parallel_backends.py\u001b[0m in \u001b[0;36mapply_async\u001b[1;34m(self, func, callback)\u001b[0m\n\u001b[0;32m    109\u001b[0m     \u001b[1;32mdef\u001b[0m \u001b[0mapply_async\u001b[0m\u001b[1;33m(\u001b[0m\u001b[0mself\u001b[0m\u001b[1;33m,\u001b[0m \u001b[0mfunc\u001b[0m\u001b[1;33m,\u001b[0m \u001b[0mcallback\u001b[0m\u001b[1;33m=\u001b[0m\u001b[1;32mNone\u001b[0m\u001b[1;33m)\u001b[0m\u001b[1;33m:\u001b[0m\u001b[1;33m\u001b[0m\u001b[0m\n\u001b[0;32m    110\u001b[0m         \u001b[1;34m\"\"\"Schedule a func to be run\"\"\"\u001b[0m\u001b[1;33m\u001b[0m\u001b[0m\n\u001b[1;32m--> 111\u001b[1;33m         \u001b[0mresult\u001b[0m \u001b[1;33m=\u001b[0m \u001b[0mImmediateResult\u001b[0m\u001b[1;33m(\u001b[0m\u001b[0mfunc\u001b[0m\u001b[1;33m)\u001b[0m\u001b[1;33m\u001b[0m\u001b[0m\n\u001b[0m\u001b[0;32m    112\u001b[0m         \u001b[1;32mif\u001b[0m \u001b[0mcallback\u001b[0m\u001b[1;33m:\u001b[0m\u001b[1;33m\u001b[0m\u001b[0m\n\u001b[0;32m    113\u001b[0m             \u001b[0mcallback\u001b[0m\u001b[1;33m(\u001b[0m\u001b[0mresult\u001b[0m\u001b[1;33m)\u001b[0m\u001b[1;33m\u001b[0m\u001b[0m\n",
      "\u001b[1;32mC:\\ProgramData\\Anaconda3\\lib\\site-packages\\sklearn\\externals\\joblib\\_parallel_backends.py\u001b[0m in \u001b[0;36m__init__\u001b[1;34m(self, batch)\u001b[0m\n\u001b[0;32m    330\u001b[0m         \u001b[1;31m# Don't delay the application, to avoid keeping the input\u001b[0m\u001b[1;33m\u001b[0m\u001b[1;33m\u001b[0m\u001b[0m\n\u001b[0;32m    331\u001b[0m         \u001b[1;31m# arguments in memory\u001b[0m\u001b[1;33m\u001b[0m\u001b[1;33m\u001b[0m\u001b[0m\n\u001b[1;32m--> 332\u001b[1;33m         \u001b[0mself\u001b[0m\u001b[1;33m.\u001b[0m\u001b[0mresults\u001b[0m \u001b[1;33m=\u001b[0m \u001b[0mbatch\u001b[0m\u001b[1;33m(\u001b[0m\u001b[1;33m)\u001b[0m\u001b[1;33m\u001b[0m\u001b[0m\n\u001b[0m\u001b[0;32m    333\u001b[0m \u001b[1;33m\u001b[0m\u001b[0m\n\u001b[0;32m    334\u001b[0m     \u001b[1;32mdef\u001b[0m \u001b[0mget\u001b[0m\u001b[1;33m(\u001b[0m\u001b[0mself\u001b[0m\u001b[1;33m)\u001b[0m\u001b[1;33m:\u001b[0m\u001b[1;33m\u001b[0m\u001b[0m\n",
      "\u001b[1;32mC:\\ProgramData\\Anaconda3\\lib\\site-packages\\sklearn\\externals\\joblib\\parallel.py\u001b[0m in \u001b[0;36m__call__\u001b[1;34m(self)\u001b[0m\n\u001b[0;32m    129\u001b[0m \u001b[1;33m\u001b[0m\u001b[0m\n\u001b[0;32m    130\u001b[0m     \u001b[1;32mdef\u001b[0m \u001b[0m__call__\u001b[0m\u001b[1;33m(\u001b[0m\u001b[0mself\u001b[0m\u001b[1;33m)\u001b[0m\u001b[1;33m:\u001b[0m\u001b[1;33m\u001b[0m\u001b[0m\n\u001b[1;32m--> 131\u001b[1;33m         \u001b[1;32mreturn\u001b[0m \u001b[1;33m[\u001b[0m\u001b[0mfunc\u001b[0m\u001b[1;33m(\u001b[0m\u001b[1;33m*\u001b[0m\u001b[0margs\u001b[0m\u001b[1;33m,\u001b[0m \u001b[1;33m**\u001b[0m\u001b[0mkwargs\u001b[0m\u001b[1;33m)\u001b[0m \u001b[1;32mfor\u001b[0m \u001b[0mfunc\u001b[0m\u001b[1;33m,\u001b[0m \u001b[0margs\u001b[0m\u001b[1;33m,\u001b[0m \u001b[0mkwargs\u001b[0m \u001b[1;32min\u001b[0m \u001b[0mself\u001b[0m\u001b[1;33m.\u001b[0m\u001b[0mitems\u001b[0m\u001b[1;33m]\u001b[0m\u001b[1;33m\u001b[0m\u001b[0m\n\u001b[0m\u001b[0;32m    132\u001b[0m \u001b[1;33m\u001b[0m\u001b[0m\n\u001b[0;32m    133\u001b[0m     \u001b[1;32mdef\u001b[0m \u001b[0m__len__\u001b[0m\u001b[1;33m(\u001b[0m\u001b[0mself\u001b[0m\u001b[1;33m)\u001b[0m\u001b[1;33m:\u001b[0m\u001b[1;33m\u001b[0m\u001b[0m\n",
      "\u001b[1;32mC:\\ProgramData\\Anaconda3\\lib\\site-packages\\sklearn\\externals\\joblib\\parallel.py\u001b[0m in \u001b[0;36m<listcomp>\u001b[1;34m(.0)\u001b[0m\n\u001b[0;32m    129\u001b[0m \u001b[1;33m\u001b[0m\u001b[0m\n\u001b[0;32m    130\u001b[0m     \u001b[1;32mdef\u001b[0m \u001b[0m__call__\u001b[0m\u001b[1;33m(\u001b[0m\u001b[0mself\u001b[0m\u001b[1;33m)\u001b[0m\u001b[1;33m:\u001b[0m\u001b[1;33m\u001b[0m\u001b[0m\n\u001b[1;32m--> 131\u001b[1;33m         \u001b[1;32mreturn\u001b[0m \u001b[1;33m[\u001b[0m\u001b[0mfunc\u001b[0m\u001b[1;33m(\u001b[0m\u001b[1;33m*\u001b[0m\u001b[0margs\u001b[0m\u001b[1;33m,\u001b[0m \u001b[1;33m**\u001b[0m\u001b[0mkwargs\u001b[0m\u001b[1;33m)\u001b[0m \u001b[1;32mfor\u001b[0m \u001b[0mfunc\u001b[0m\u001b[1;33m,\u001b[0m \u001b[0margs\u001b[0m\u001b[1;33m,\u001b[0m \u001b[0mkwargs\u001b[0m \u001b[1;32min\u001b[0m \u001b[0mself\u001b[0m\u001b[1;33m.\u001b[0m\u001b[0mitems\u001b[0m\u001b[1;33m]\u001b[0m\u001b[1;33m\u001b[0m\u001b[0m\n\u001b[0m\u001b[0;32m    132\u001b[0m \u001b[1;33m\u001b[0m\u001b[0m\n\u001b[0;32m    133\u001b[0m     \u001b[1;32mdef\u001b[0m \u001b[0m__len__\u001b[0m\u001b[1;33m(\u001b[0m\u001b[0mself\u001b[0m\u001b[1;33m)\u001b[0m\u001b[1;33m:\u001b[0m\u001b[1;33m\u001b[0m\u001b[0m\n",
      "\u001b[1;32msklearn\\neighbors\\binary_tree.pxi\u001b[0m in \u001b[0;36msklearn.neighbors.kd_tree.BinaryTree.query\u001b[1;34m()\u001b[0m\n",
      "\u001b[1;31mValueError\u001b[0m: query data dimension must match training data dimension"
     ]
    }
   ],
   "source": []
  }
 ],
 "metadata": {
  "kernelspec": {
   "display_name": "Python 3",
   "language": "python",
   "name": "python3"
  },
  "language_info": {
   "codemirror_mode": {
    "name": "ipython",
    "version": 3
   },
   "file_extension": ".py",
   "mimetype": "text/x-python",
   "name": "python",
   "nbconvert_exporter": "python",
   "pygments_lexer": "ipython3",
   "version": "3.6.2"
  }
 },
 "nbformat": 4,
 "nbformat_minor": 2
}
